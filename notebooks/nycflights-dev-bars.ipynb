{
 "cells": [
  {
   "cell_type": "code",
   "execution_count": null,
   "id": "7a7b9340",
   "metadata": {},
   "outputs": [],
   "source": [
    "%load_ext autoreload\n",
    "%autoreload 2"
   ]
  },
  {
   "cell_type": "code",
   "execution_count": null,
   "id": "e3c800bd",
   "metadata": {},
   "outputs": [],
   "source": [
    "import numpy as np\n",
    "import pandas as pd\n",
    "import matplotlib.pyplot as plt\n",
    "\n",
    "from pyspark.sql import SparkSession\n",
    "import pyspark.sql.functions as F"
   ]
  },
  {
   "cell_type": "code",
   "execution_count": null,
   "id": "f5dbd0ca",
   "metadata": {},
   "outputs": [],
   "source": [
    "from spark_plot import mpl\n",
    "mpl.set_defaults()"
   ]
  },
  {
   "cell_type": "code",
   "execution_count": null,
   "id": "baccde96",
   "metadata": {},
   "outputs": [],
   "source": [
    "spark = (SparkSession\n",
    "    .builder\n",
    "    .appName(\"nycflights-hist-dev\")\n",
    "    .config(\"spark.sql.execution.arrow.pyspark.enabled\", \"true\")\n",
    "    .getOrCreate()\n",
    ")"
   ]
  },
  {
   "cell_type": "code",
   "execution_count": null,
   "id": "5a9aab4f",
   "metadata": {},
   "outputs": [],
   "source": [
    "from nycflights13 import flights as flights_pd"
   ]
  },
  {
   "cell_type": "code",
   "execution_count": null,
   "id": "4e643a0b",
   "metadata": {},
   "outputs": [],
   "source": [
    "df = spark.createDataFrame(flights_pd)"
   ]
  },
  {
   "cell_type": "code",
   "execution_count": null,
   "id": "a4c5204e",
   "metadata": {},
   "outputs": [],
   "source": [
    "df.persist()"
   ]
  },
  {
   "cell_type": "markdown",
   "id": "60cbf4fc",
   "metadata": {},
   "source": [
    "## Code"
   ]
  },
  {
   "cell_type": "code",
   "execution_count": null,
   "id": "054268ee",
   "metadata": {},
   "outputs": [],
   "source": [
    "import pyspark.sql.functions as F"
   ]
  },
  {
   "cell_type": "code",
   "execution_count": null,
   "id": "518ec5d7",
   "metadata": {},
   "outputs": [],
   "source": [
    "column = \"origin\"\n",
    "agg_fn = F.count\n",
    "alias = None\n",
    "sort = True\n",
    "sort_asc = False\n",
    "sort_desc = True"
   ]
  },
  {
   "cell_type": "code",
   "execution_count": null,
   "id": "ac30975b",
   "metadata": {},
   "outputs": [],
   "source": [
    "data = df[[column]]"
   ]
  },
  {
   "cell_type": "code",
   "execution_count": null,
   "id": "0c82cd3c",
   "metadata": {},
   "outputs": [],
   "source": []
  },
  {
   "cell_type": "code",
   "execution_count": null,
   "id": "f7e4db7a",
   "metadata": {},
   "outputs": [],
   "source": [
    "agg = agg_fn(column)"
   ]
  },
  {
   "cell_type": "code",
   "execution_count": null,
   "id": "c1594931",
   "metadata": {},
   "outputs": [],
   "source": [
    "alias = F.count.__name__"
   ]
  },
  {
   "cell_type": "code",
   "execution_count": null,
   "id": "d34b6e45",
   "metadata": {},
   "outputs": [],
   "source": [
    "groups = data.groupBy(column).agg(agg.alias(alias))"
   ]
  },
  {
   "cell_type": "code",
   "execution_count": null,
   "id": "b2a380ce",
   "metadata": {},
   "outputs": [],
   "source": [
    "order_by = F.col(alias).desc()\n",
    "result = groups.orderBy(order_by)"
   ]
  },
  {
   "cell_type": "code",
   "execution_count": null,
   "id": "418f7021",
   "metadata": {},
   "outputs": [],
   "source": [
    "result.show()"
   ]
  },
  {
   "cell_type": "code",
   "execution_count": null,
   "id": "bcd838f2",
   "metadata": {},
   "outputs": [],
   "source": [
    "pd_df = result.toPandas()"
   ]
  },
  {
   "cell_type": "markdown",
   "id": "da343c76",
   "metadata": {},
   "source": [
    "## Plot"
   ]
  },
  {
   "cell_type": "code",
   "execution_count": null,
   "id": "730c3879",
   "metadata": {},
   "outputs": [],
   "source": [
    "pd_df.set_index(column)[alias].plot.bar()"
   ]
  },
  {
   "cell_type": "code",
   "execution_count": null,
   "id": "4bc9b0cf",
   "metadata": {},
   "outputs": [],
   "source": [
    "pd_df.plot.bar()"
   ]
  },
  {
   "cell_type": "markdown",
   "id": "2d3c83fe",
   "metadata": {},
   "source": [
    "## Compare to Pandas"
   ]
  },
  {
   "cell_type": "code",
   "execution_count": null,
   "id": "209ce697",
   "metadata": {},
   "outputs": [],
   "source": [
    "flights_pd[\"origin\"].value_counts().sort_values(ascending=False)"
   ]
  },
  {
   "cell_type": "code",
   "execution_count": null,
   "id": "a37e7a4f",
   "metadata": {},
   "outputs": [],
   "source": [
    "flights_pd[\"origin\"].value_counts().sort_values(ascending=False).plot(kind='bar')"
   ]
  },
  {
   "cell_type": "code",
   "execution_count": null,
   "id": "ba56e800",
   "metadata": {},
   "outputs": [],
   "source": [
    "flights_pd[\"origin\"].value_counts().sort_values(ascending=False).plot.bar()"
   ]
  },
  {
   "cell_type": "code",
   "execution_count": null,
   "id": "db05eaf6",
   "metadata": {},
   "outputs": [],
   "source": []
  }
 ],
 "metadata": {
  "kernelspec": {
   "display_name": "Python 3",
   "language": "python",
   "name": "python3"
  },
  "language_info": {
   "codemirror_mode": {
    "name": "ipython",
    "version": 3
   },
   "file_extension": ".py",
   "mimetype": "text/x-python",
   "name": "python",
   "nbconvert_exporter": "python",
   "pygments_lexer": "ipython3",
   "version": "3.8.8"
  }
 },
 "nbformat": 4,
 "nbformat_minor": 5
}
