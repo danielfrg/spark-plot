{
 "cells": [
  {
   "cell_type": "code",
   "execution_count": null,
   "id": "1ecdb54d",
   "metadata": {},
   "outputs": [],
   "source": [
    "%load_ext autoreload\n",
    "%autoreload 2"
   ]
  },
  {
   "cell_type": "code",
   "execution_count": null,
   "id": "65247c8a",
   "metadata": {},
   "outputs": [],
   "source": [
    "import numpy as np\n",
    "import pandas as pd\n",
    "import matplotlib.pyplot as plt"
   ]
  },
  {
   "cell_type": "code",
   "execution_count": null,
   "id": "d7f96d0a",
   "metadata": {},
   "outputs": [],
   "source": [
    "from nycflights13 import flights as flights_pd"
   ]
  },
  {
   "cell_type": "code",
   "execution_count": null,
   "id": "a69d8df6",
   "metadata": {},
   "outputs": [],
   "source": [
    "from spark_plot import mpl\n",
    "mpl.set_defaults()"
   ]
  },
  {
   "cell_type": "markdown",
   "id": "ee2495f2",
   "metadata": {},
   "source": [
    "## Histogram"
   ]
  },
  {
   "cell_type": "code",
   "execution_count": null,
   "id": "b8bcefc0",
   "metadata": {},
   "outputs": [],
   "source": [
    "flights_pd.distance.plot.hist(by=\"distance\", bins=30, color=\"#474747\")"
   ]
  },
  {
   "cell_type": "markdown",
   "id": "07300ff8",
   "metadata": {},
   "source": [
    "## Histogram 2D"
   ]
  },
  {
   "cell_type": "code",
   "execution_count": null,
   "id": "540f9398",
   "metadata": {},
   "outputs": [],
   "source": [
    "x = flights_pd[\"sched_dep_time\"]\n",
    "y = flights_pd[\"sched_arr_time\"]\n",
    "\n",
    "counts, xedges, yedges = np.histogram2d(x, y, bins=100)\n",
    "counts = np.ma.masked_where(counts == 0, counts)\n",
    "\n",
    "plt.pcolormesh(xedges, yedges, counts.T, cmap='Blues_r')\n",
    "cb = plt.colorbar()"
   ]
  },
  {
   "cell_type": "markdown",
   "id": "2c7aa53c",
   "metadata": {},
   "source": [
    "## Bar plot"
   ]
  },
  {
   "cell_type": "code",
   "execution_count": null,
   "id": "e764950d",
   "metadata": {},
   "outputs": [],
   "source": [
    "flights_pd.origin.value_counts().sort_values().plot.bar()"
   ]
  },
  {
   "cell_type": "code",
   "execution_count": null,
   "id": "b0fd4e1a",
   "metadata": {},
   "outputs": [],
   "source": []
  }
 ],
 "metadata": {
  "kernelspec": {
   "display_name": "Python 3",
   "language": "python",
   "name": "python3"
  },
  "language_info": {
   "codemirror_mode": {
    "name": "ipython",
    "version": 3
   },
   "file_extension": ".py",
   "mimetype": "text/x-python",
   "name": "python",
   "nbconvert_exporter": "python",
   "pygments_lexer": "ipython3",
   "version": "3.8.8"
  }
 },
 "nbformat": 4,
 "nbformat_minor": 5
}
