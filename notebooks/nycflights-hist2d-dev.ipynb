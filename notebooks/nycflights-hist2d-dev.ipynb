{
 "cells": [
  {
   "cell_type": "code",
   "execution_count": null,
   "id": "hollywood-chess",
   "metadata": {},
   "outputs": [],
   "source": [
    "import numpy as np\n",
    "import matplotlib.pyplot as plt\n",
    "\n",
    "from pyspark.sql import SparkSession\n",
    "import pyspark.sql.functions as F"
   ]
  },
  {
   "cell_type": "code",
   "execution_count": null,
   "id": "searching-professional",
   "metadata": {},
   "outputs": [],
   "source": [
    "from spark_plot import mpl\n",
    "mpl.set_defaults()"
   ]
  },
  {
   "cell_type": "code",
   "execution_count": null,
   "id": "funny-prayer",
   "metadata": {},
   "outputs": [],
   "source": [
    "spark = (SparkSession\n",
    "    .builder\n",
    "    .appName(\"nycflights-hist2d-dev\")\n",
    "    .config(\"spark.sql.execution.arrow.pyspark.enabled\", \"true\")\n",
    "    .getOrCreate()\n",
    ")"
   ]
  },
  {
   "cell_type": "code",
   "execution_count": null,
   "id": "packed-combining",
   "metadata": {},
   "outputs": [],
   "source": [
    "from nycflights13 import flights as flights_pd"
   ]
  },
  {
   "cell_type": "code",
   "execution_count": null,
   "id": "strategic-court",
   "metadata": {},
   "outputs": [],
   "source": [
    "flights = spark.createDataFrame(flights_pd)"
   ]
  },
  {
   "cell_type": "code",
   "execution_count": null,
   "id": "adolescent-welcome",
   "metadata": {},
   "outputs": [],
   "source": [
    "flights.persist()"
   ]
  },
  {
   "cell_type": "code",
   "execution_count": null,
   "id": "rental-anxiety",
   "metadata": {},
   "outputs": [],
   "source": [
    "from spark_plot import utils\n",
    "from pyspark.ml.feature import Bucketizer"
   ]
  },
  {
   "cell_type": "code",
   "execution_count": null,
   "id": "valid-latin",
   "metadata": {},
   "outputs": [],
   "source": [
    "col_x = \"sched_dep_time\"\n",
    "col_y = \"sched_arr_time\"\n",
    "bins = 100"
   ]
  },
  {
   "cell_type": "code",
   "execution_count": null,
   "id": "threatened-statement",
   "metadata": {},
   "outputs": [],
   "source": [
    "data = flights[[col_x, col_y]]"
   ]
  },
  {
   "cell_type": "code",
   "execution_count": null,
   "id": "metallic-encyclopedia",
   "metadata": {},
   "outputs": [],
   "source": [
    "buckets_x = utils.spark_buckets(data, col_x, bins=bins)\n",
    "buckets_y = utils.spark_buckets(data, col_y, bins=bins)"
   ]
  },
  {
   "cell_type": "code",
   "execution_count": null,
   "id": "stainless-faculty",
   "metadata": {},
   "outputs": [],
   "source": [
    "bucketizer = Bucketizer(splits=buckets_x, inputCol=col_x, outputCol=\"bucket_x\")\n",
    "buckets_df = bucketizer.transform(data)\n",
    "\n",
    "bucketizer = Bucketizer(splits=buckets_y, inputCol=col_y, outputCol=\"bucket_y\")\n",
    "buckets_df = bucketizer.transform(buckets_df)"
   ]
  },
  {
   "cell_type": "code",
   "execution_count": null,
   "id": "frank-thesaurus",
   "metadata": {},
   "outputs": [],
   "source": [
    "histogram = buckets_df.groupby(\"bucket_x\", \"bucket_y\").agg(F.count(col_x).alias(\"count\"))"
   ]
  },
  {
   "cell_type": "code",
   "execution_count": null,
   "id": "painful-stone",
   "metadata": {},
   "outputs": [],
   "source": [
    "histogram = histogram.orderBy(\"bucket_x\", \"bucket_y\", ascending=True)"
   ]
  },
  {
   "cell_type": "code",
   "execution_count": null,
   "id": "present-auditor",
   "metadata": {},
   "outputs": [],
   "source": [
    "histogram.show()"
   ]
  },
  {
   "cell_type": "code",
   "execution_count": null,
   "id": "physical-dressing",
   "metadata": {},
   "outputs": [],
   "source": [
    "hist_pd = histogram.toPandas()"
   ]
  },
  {
   "cell_type": "code",
   "execution_count": null,
   "id": "unsigned-penny",
   "metadata": {},
   "outputs": [],
   "source": [
    "hist_pd"
   ]
  },
  {
   "cell_type": "code",
   "execution_count": null,
   "id": "freelance-likelihood",
   "metadata": {},
   "outputs": [],
   "source": [
    "w = np.zeros((bins, bins))"
   ]
  },
  {
   "cell_type": "code",
   "execution_count": null,
   "id": "flush-asset",
   "metadata": {},
   "outputs": [],
   "source": [
    "for index, row in hist_pd.iterrows():\n",
    "    w[int(row['bucket_x']), int(row['bucket_y'])] = row[\"count\"]"
   ]
  },
  {
   "cell_type": "code",
   "execution_count": null,
   "id": "complimentary-evaluation",
   "metadata": {},
   "outputs": [],
   "source": [
    "w"
   ]
  },
  {
   "cell_type": "code",
   "execution_count": null,
   "id": "associate-discussion",
   "metadata": {},
   "outputs": [],
   "source": [
    "fig, ax = plt.subplots(1, 1)\n",
    "\n",
    "ax.pcolormesh(w)"
   ]
  },
  {
   "cell_type": "code",
   "execution_count": null,
   "id": "brave-arena",
   "metadata": {},
   "outputs": [],
   "source": [
    "fig, ax = plt.subplots(1, 1)\n",
    "\n",
    "ax.pcolormesh(buckets_x, buckets_y, w.T)"
   ]
  },
  {
   "cell_type": "code",
   "execution_count": null,
   "id": "cognitive-cartridge",
   "metadata": {},
   "outputs": [],
   "source": []
  }
 ],
 "metadata": {
  "kernelspec": {
   "display_name": "Python 3",
   "language": "python",
   "name": "python3"
  },
  "language_info": {
   "codemirror_mode": {
    "name": "ipython",
    "version": 3
   },
   "file_extension": ".py",
   "mimetype": "text/x-python",
   "name": "python",
   "nbconvert_exporter": "python",
   "pygments_lexer": "ipython3",
   "version": "3.8.8"
  }
 },
 "nbformat": 4,
 "nbformat_minor": 5
}
