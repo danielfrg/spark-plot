{
 "cells": [
  {
   "cell_type": "code",
   "execution_count": 8,
   "id": "responsible-assessment",
   "metadata": {},
   "outputs": [],
   "source": [
    "import numpy as np\n",
    "import matplotlib.pyplot as plt\n",
    "\n",
    "from pyspark.sql import SparkSession\n",
    "import pyspark.sql.functions as F"
   ]
  },
  {
   "cell_type": "code",
   "execution_count": 2,
   "id": "incomplete-dressing",
   "metadata": {},
   "outputs": [],
   "source": [
    "spark = SparkSession \\\n",
    "    .builder \\\n",
    "    .appName(\"nycflights\") \\\n",
    "    .config(\"spark.sql.execution.arrow.pyspark.enabled\", \"true\") \\\n",
    "    .getOrCreate()"
   ]
  },
  {
   "cell_type": "code",
   "execution_count": 3,
   "id": "excessive-bernard",
   "metadata": {},
   "outputs": [],
   "source": [
    "from nycflights13 import flights as flights_pd"
   ]
  },
  {
   "cell_type": "code",
   "execution_count": 4,
   "id": "tamil-morocco",
   "metadata": {},
   "outputs": [],
   "source": [
    "flights = spark.createDataFrame(flights_pd)"
   ]
  },
  {
   "cell_type": "code",
   "execution_count": 19,
   "id": "weird-anthony",
   "metadata": {},
   "outputs": [
    {
     "data": {
      "text/plain": [
       "DataFrame[year: bigint, month: bigint, day: bigint, dep_time: double, sched_dep_time: bigint, dep_delay: double, arr_time: double, sched_arr_time: bigint, arr_delay: double, carrier: string, flight: bigint, tailnum: string, origin: string, dest: string, air_time: double, distance: bigint, hour: bigint, minute: bigint, time_hour: string]"
      ]
     },
     "execution_count": 19,
     "metadata": {},
     "output_type": "execute_result"
    }
   ],
   "source": [
    "flights.persist()"
   ]
  },
  {
   "cell_type": "code",
   "execution_count": 26,
   "id": "coupled-venue",
   "metadata": {},
   "outputs": [],
   "source": [
    "col_df = flights[[\"distance\"]]"
   ]
  },
  {
   "cell_type": "code",
   "execution_count": 31,
   "id": "compliant-guest",
   "metadata": {},
   "outputs": [],
   "source": [
    "limits = col_df.agg(F.min(\"distance\"), F.max(\"distance\")).collect()"
   ]
  },
  {
   "cell_type": "code",
   "execution_count": 35,
   "id": "prospective-directory",
   "metadata": {},
   "outputs": [],
   "source": [
    "min_, max_ = limits[0][0], limits[0][1]"
   ]
  },
  {
   "cell_type": "code",
   "execution_count": 36,
   "id": "light-assets",
   "metadata": {},
   "outputs": [
    {
     "data": {
      "text/plain": [
       "(17, 4983)"
      ]
     },
     "execution_count": 36,
     "metadata": {},
     "output_type": "execute_result"
    }
   ],
   "source": [
    "min_, max_"
   ]
  },
  {
   "cell_type": "code",
   "execution_count": 74,
   "id": "moral-pontiac",
   "metadata": {},
   "outputs": [],
   "source": [
    "bins = 30"
   ]
  },
  {
   "cell_type": "code",
   "execution_count": 75,
   "id": "billion-doctor",
   "metadata": {},
   "outputs": [],
   "source": [
    "binwidth = (max_ - min_) / (bins)"
   ]
  },
  {
   "cell_type": "code",
   "execution_count": 76,
   "id": "marine-express",
   "metadata": {},
   "outputs": [],
   "source": [
    "buckets = [min_ + i * binwidth for i in range(bins + 1)]"
   ]
  },
  {
   "cell_type": "code",
   "execution_count": 77,
   "id": "applied-identification",
   "metadata": {},
   "outputs": [],
   "source": [
    "from pyspark.ml.feature import Bucketizer"
   ]
  },
  {
   "cell_type": "code",
   "execution_count": 78,
   "id": "therapeutic-bones",
   "metadata": {},
   "outputs": [],
   "source": [
    "bucketizer = Bucketizer(splits=buckets, inputCol=\"distance\", outputCol=\"bucket\")\n",
    "buckets_df = bucketizer.setHandleInvalid(\"keep\").transform(col_df)"
   ]
  },
  {
   "cell_type": "code",
   "execution_count": 91,
   "id": "virtual-single",
   "metadata": {},
   "outputs": [],
   "source": [
    "histogram = buckets_df.groupby(\"bucket\").agg(F.count(\"distance\").alias(\"count\"))"
   ]
  },
  {
   "cell_type": "code",
   "execution_count": 92,
   "id": "standard-montana",
   "metadata": {},
   "outputs": [],
   "source": [
    "histogram = histogram.orderBy(\"bucket\", ascending=True)"
   ]
  },
  {
   "cell_type": "code",
   "execution_count": 93,
   "id": "choice-cleveland",
   "metadata": {},
   "outputs": [
    {
     "name": "stdout",
     "output_type": "stream",
     "text": [
      "+------+-----+\n",
      "|bucket|count|\n",
      "+------+-----+\n",
      "|   0.0| 3657|\n",
      "|   1.0|54139|\n",
      "|   2.0|28737|\n",
      "|   3.0|28455|\n",
      "|   4.0|51842|\n",
      "|   5.0|30350|\n",
      "|   6.0|45510|\n",
      "|   7.0| 3322|\n",
      "|   8.0|19019|\n",
      "|   9.0|17025|\n",
      "|  10.0|  497|\n",
      "|  11.0| 2528|\n",
      "|  12.0| 4656|\n",
      "|  13.0| 5997|\n",
      "|  14.0|26071|\n",
      "|  15.0|14256|\n",
      "|  20.0|    8|\n",
      "|  29.0|  707|\n",
      "+------+-----+\n",
      "\n"
     ]
    }
   ],
   "source": [
    "histogram.show()"
   ]
  },
  {
   "cell_type": "code",
   "execution_count": 94,
   "id": "later-psychology",
   "metadata": {},
   "outputs": [],
   "source": [
    "col_rows = histogram.select(\"count\").collect()"
   ]
  },
  {
   "cell_type": "code",
   "execution_count": 95,
   "id": "immune-elite",
   "metadata": {},
   "outputs": [],
   "source": [
    "weights = [row[0] for row in col_rows]"
   ]
  },
  {
   "cell_type": "code",
   "execution_count": 96,
   "id": "formed-table",
   "metadata": {},
   "outputs": [
    {
     "data": {
      "text/plain": [
       "[3657,\n",
       " 54139,\n",
       " 28737,\n",
       " 28455,\n",
       " 51842,\n",
       " 30350,\n",
       " 45510,\n",
       " 3322,\n",
       " 19019,\n",
       " 17025,\n",
       " 497,\n",
       " 2528,\n",
       " 4656,\n",
       " 5997,\n",
       " 26071,\n",
       " 14256,\n",
       " 8,\n",
       " 707]"
      ]
     },
     "execution_count": 96,
     "metadata": {},
     "output_type": "execute_result"
    }
   ],
   "source": [
    "weights"
   ]
  },
  {
   "cell_type": "code",
   "execution_count": 99,
   "id": "executive-personality",
   "metadata": {},
   "outputs": [],
   "source": [
    "x = np.linspace(buckets[0], buckets[-1], len(weights))"
   ]
  },
  {
   "cell_type": "code",
   "execution_count": 102,
   "id": "regional-lewis",
   "metadata": {},
   "outputs": [
    {
     "data": {
      "text/plain": [
       "<BarContainer object of 18 artists>"
      ]
     },
     "execution_count": 102,
     "metadata": {},
     "output_type": "execute_result"
    },
    {
     "data": {
      "image/png": "[encoded data removed]",
      "text/plain": [
       "<Figure size 432x288 with 1 Axes>"
      ]
     },
     "metadata": {
      "needs_background": "light"
     },
     "output_type": "display_data"
    }
   ],
   "source": [
    "_, _, p = plt.hist(x, len(x), weights=weights)\n",
    "p"
   ]
  },
  {
   "cell_type": "code",
   "execution_count": 104,
   "id": "political-account",
   "metadata": {},
   "outputs": [
    {
     "ename": "TypeError",
     "evalue": "context() got an unexpected keyword argument 'style_label'",
     "output_type": "error",
     "traceback": [
      "\u001b[0;31m---------------------------------------------------------------------------\u001b[0m",
      "\u001b[0;31mTypeError\u001b[0m                                 Traceback (most recent call last)",
      "\u001b[0;32m<ipython-input-104-1926fd6c34ef>\u001b[0m in \u001b[0;36m<module>\u001b[0;34m\u001b[0m\n\u001b[0;32m----> 1\u001b[0;31m \u001b[0;32mwith\u001b[0m \u001b[0mplt\u001b[0m\u001b[0;34m.\u001b[0m\u001b[0mstyle\u001b[0m\u001b[0;34m.\u001b[0m\u001b[0mcontext\u001b[0m\u001b[0;34m(\u001b[0m\u001b[0mstyle_label\u001b[0m\u001b[0;34m=\u001b[0m\u001b[0;34m\"ggplot\"\u001b[0m\u001b[0;34m)\u001b[0m\u001b[0;34m:\u001b[0m\u001b[0;34m\u001b[0m\u001b[0;34m\u001b[0m\u001b[0m\n\u001b[0m\u001b[1;32m      2\u001b[0m     \u001b[0mp\u001b[0m\u001b[0;34m\u001b[0m\u001b[0;34m\u001b[0m\u001b[0m\n",
      "\u001b[0;32m~/conda/envs/spark-plot/lib/python3.8/contextlib.py\u001b[0m in \u001b[0;36mhelper\u001b[0;34m(*args, **kwds)\u001b[0m\n\u001b[1;32m    238\u001b[0m     \u001b[0;34m@\u001b[0m\u001b[0mwraps\u001b[0m\u001b[0;34m(\u001b[0m\u001b[0mfunc\u001b[0m\u001b[0;34m)\u001b[0m\u001b[0;34m\u001b[0m\u001b[0;34m\u001b[0m\u001b[0m\n\u001b[1;32m    239\u001b[0m     \u001b[0;32mdef\u001b[0m \u001b[0mhelper\u001b[0m\u001b[0;34m(\u001b[0m\u001b[0;34m*\u001b[0m\u001b[0margs\u001b[0m\u001b[0;34m,\u001b[0m \u001b[0;34m**\u001b[0m\u001b[0mkwds\u001b[0m\u001b[0;34m)\u001b[0m\u001b[0;34m:\u001b[0m\u001b[0;34m\u001b[0m\u001b[0;34m\u001b[0m\u001b[0m\n\u001b[0;32m--> 240\u001b[0;31m         \u001b[0;32mreturn\u001b[0m \u001b[0m_GeneratorContextManager\u001b[0m\u001b[0;34m(\u001b[0m\u001b[0mfunc\u001b[0m\u001b[0;34m,\u001b[0m \u001b[0margs\u001b[0m\u001b[0;34m,\u001b[0m \u001b[0mkwds\u001b[0m\u001b[0;34m)\u001b[0m\u001b[0;34m\u001b[0m\u001b[0;34m\u001b[0m\u001b[0m\n\u001b[0m\u001b[1;32m    241\u001b[0m     \u001b[0;32mreturn\u001b[0m \u001b[0mhelper\u001b[0m\u001b[0;34m\u001b[0m\u001b[0;34m\u001b[0m\u001b[0m\n\u001b[1;32m    242\u001b[0m \u001b[0;34m\u001b[0m\u001b[0m\n",
      "\u001b[0;32m~/conda/envs/spark-plot/lib/python3.8/contextlib.py\u001b[0m in \u001b[0;36m__init__\u001b[0;34m(self, func, args, kwds)\u001b[0m\n\u001b[1;32m     81\u001b[0m \u001b[0;34m\u001b[0m\u001b[0m\n\u001b[1;32m     82\u001b[0m     \u001b[0;32mdef\u001b[0m \u001b[0m__init__\u001b[0m\u001b[0;34m(\u001b[0m\u001b[0mself\u001b[0m\u001b[0;34m,\u001b[0m \u001b[0mfunc\u001b[0m\u001b[0;34m,\u001b[0m \u001b[0margs\u001b[0m\u001b[0;34m,\u001b[0m \u001b[0mkwds\u001b[0m\u001b[0;34m)\u001b[0m\u001b[0;34m:\u001b[0m\u001b[0;34m\u001b[0m\u001b[0;34m\u001b[0m\u001b[0m\n\u001b[0;32m---> 83\u001b[0;31m         \u001b[0mself\u001b[0m\u001b[0;34m.\u001b[0m\u001b[0mgen\u001b[0m \u001b[0;34m=\u001b[0m \u001b[0mfunc\u001b[0m\u001b[0;34m(\u001b[0m\u001b[0;34m*\u001b[0m\u001b[0margs\u001b[0m\u001b[0;34m,\u001b[0m \u001b[0;34m**\u001b[0m\u001b[0mkwds\u001b[0m\u001b[0;34m)\u001b[0m\u001b[0;34m\u001b[0m\u001b[0;34m\u001b[0m\u001b[0m\n\u001b[0m\u001b[1;32m     84\u001b[0m         \u001b[0mself\u001b[0m\u001b[0;34m.\u001b[0m\u001b[0mfunc\u001b[0m\u001b[0;34m,\u001b[0m \u001b[0mself\u001b[0m\u001b[0;34m.\u001b[0m\u001b[0margs\u001b[0m\u001b[0;34m,\u001b[0m \u001b[0mself\u001b[0m\u001b[0;34m.\u001b[0m\u001b[0mkwds\u001b[0m \u001b[0;34m=\u001b[0m \u001b[0mfunc\u001b[0m\u001b[0;34m,\u001b[0m \u001b[0margs\u001b[0m\u001b[0;34m,\u001b[0m \u001b[0mkwds\u001b[0m\u001b[0;34m\u001b[0m\u001b[0;34m\u001b[0m\u001b[0m\n\u001b[1;32m     85\u001b[0m         \u001b[0;31m# Issue 19330: ensure context manager instances have good docstrings\u001b[0m\u001b[0;34m\u001b[0m\u001b[0;34m\u001b[0m\u001b[0;34m\u001b[0m\u001b[0m\n",
      "\u001b[0;31mTypeError\u001b[0m: context() got an unexpected keyword argument 'style_label'"
     ]
    }
   ],
   "source": [
    "with plt.style.context():\n",
    "    p"
   ]
  },
  {
   "cell_type": "code",
   "execution_count": null,
   "id": "generic-cycling",
   "metadata": {},
   "outputs": [],
   "source": []
  }
 ],
 "metadata": {
  "kernelspec": {
   "display_name": "Python 3",
   "language": "python",
   "name": "python3"
  },
  "language_info": {
   "codemirror_mode": {
    "name": "ipython",
    "version": 3
   },
   "file_extension": ".py",
   "mimetype": "text/x-python",
   "name": "python",
   "nbconvert_exporter": "python",
   "pygments_lexer": "ipython3",
   "version": "3.8.8"
  }
 },
 "nbformat": 4,
 "nbformat_minor": 5
}
