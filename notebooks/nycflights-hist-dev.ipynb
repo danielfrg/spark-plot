{
 "cells": [
  {
   "cell_type": "code",
   "execution_count": null,
   "id": "auburn-resident",
   "metadata": {},
   "outputs": [],
   "source": [
    "import numpy as np\n",
    "import pandas as pd\n",
    "import matplotlib.pyplot as plt\n",
    "\n",
    "from pyspark.sql import SparkSession\n",
    "import pyspark.sql.functions as F"
   ]
  },
  {
   "cell_type": "code",
   "execution_count": null,
   "id": "understanding-vermont",
   "metadata": {},
   "outputs": [],
   "source": [
    "from spark_plot import mpl\n",
    "mpl.set_defaults()"
   ]
  },
  {
   "cell_type": "code",
   "execution_count": null,
   "id": "hydraulic-tomato",
   "metadata": {},
   "outputs": [],
   "source": [
    "spark = (SparkSession\n",
    "    .builder\n",
    "    .appName(\"nycflights-hist-dev\")\n",
    "    .config(\"spark.sql.execution.arrow.pyspark.enabled\", \"true\")\n",
    "    .getOrCreate()\n",
    ")"
   ]
  },
  {
   "cell_type": "code",
   "execution_count": null,
   "id": "private-sympathy",
   "metadata": {},
   "outputs": [],
   "source": [
    "from nycflights13 import flights as flights_pd"
   ]
  },
  {
   "cell_type": "code",
   "execution_count": null,
   "id": "strategic-comparative",
   "metadata": {},
   "outputs": [],
   "source": [
    "flights = spark.createDataFrame(flights_pd)"
   ]
  },
  {
   "cell_type": "code",
   "execution_count": null,
   "id": "institutional-dodge",
   "metadata": {},
   "outputs": [],
   "source": [
    "flights.persist()"
   ]
  },
  {
   "cell_type": "code",
   "execution_count": null,
   "id": "fiscal-range",
   "metadata": {},
   "outputs": [],
   "source": [
    "from spark_plot import utils\n",
    "from pyspark.ml.feature import Bucketizer"
   ]
  },
  {
   "cell_type": "code",
   "execution_count": null,
   "id": "heard-orlando",
   "metadata": {},
   "outputs": [],
   "source": [
    "column = \"distance\"\n",
    "bins = 30"
   ]
  },
  {
   "cell_type": "code",
   "execution_count": null,
   "id": "operating-adrian",
   "metadata": {},
   "outputs": [],
   "source": [
    "data = flights[[column]]"
   ]
  },
  {
   "cell_type": "code",
   "execution_count": null,
   "id": "clean-conversion",
   "metadata": {},
   "outputs": [],
   "source": [
    "buckets = utils.spark_buckets(data, column, bins=bins)"
   ]
  },
  {
   "cell_type": "code",
   "execution_count": null,
   "id": "built-spending",
   "metadata": {},
   "outputs": [],
   "source": [
    "bucketizer = Bucketizer(splits=buckets, inputCol=column, outputCol=\"bucket\")\n",
    "buckets_df = bucketizer.setHandleInvalid(\"error\").transform(data)"
   ]
  },
  {
   "cell_type": "code",
   "execution_count": null,
   "id": "conscious-polls",
   "metadata": {},
   "outputs": [],
   "source": [
    "histogram = buckets_df.groupby(\"bucket\").agg(F.count(column).alias(\"count\"))"
   ]
  },
  {
   "cell_type": "code",
   "execution_count": null,
   "id": "naval-arbor",
   "metadata": {},
   "outputs": [],
   "source": [
    "histogram = histogram.orderBy(\"bucket\", ascending=True)"
   ]
  },
  {
   "cell_type": "code",
   "execution_count": null,
   "id": "immediate-philip",
   "metadata": {},
   "outputs": [],
   "source": [
    "histogram.show()"
   ]
  },
  {
   "cell_type": "code",
   "execution_count": null,
   "id": "spoken-vacation",
   "metadata": {},
   "outputs": [],
   "source": [
    "hist_pd = histogram.toPandas()\n",
    "hist_pd"
   ]
  },
  {
   "cell_type": "code",
   "execution_count": null,
   "id": "associate-victorian",
   "metadata": {},
   "outputs": [],
   "source": [
    "fill_buckets = pd.DataFrame(columns=[\"bucket\"])"
   ]
  },
  {
   "cell_type": "code",
   "execution_count": null,
   "id": "defensive-documentary",
   "metadata": {},
   "outputs": [],
   "source": [
    "fill_buckets[\"bucket\"] = np.arange(len(buckets))"
   ]
  },
  {
   "cell_type": "code",
   "execution_count": null,
   "id": "charming-version",
   "metadata": {},
   "outputs": [],
   "source": [
    "fill_buckets = fill_buckets.merge(hist_pd, on=\"bucket\", how='left')"
   ]
  },
  {
   "cell_type": "code",
   "execution_count": null,
   "id": "chief-limit",
   "metadata": {},
   "outputs": [],
   "source": [
    "weights = fill_buckets[\"count\"]"
   ]
  },
  {
   "cell_type": "code",
   "execution_count": null,
   "id": "whole-portland",
   "metadata": {},
   "outputs": [],
   "source": [
    "len(weights)"
   ]
  },
  {
   "cell_type": "code",
   "execution_count": null,
   "id": "potential-entity",
   "metadata": {},
   "outputs": [],
   "source": [
    "fig, ax = plt.subplots(1, 1)\n",
    "\n",
    "ax.hist(buckets, len(buckets), weights=weights)"
   ]
  },
  {
   "cell_type": "markdown",
   "id": "roman-negotiation",
   "metadata": {},
   "source": [
    "## Compare to Pandas"
   ]
  },
  {
   "cell_type": "code",
   "execution_count": null,
   "id": "dried-kentucky",
   "metadata": {},
   "outputs": [],
   "source": [
    "flights_pd.hist(column, bins=40, figsize=(10, 10))"
   ]
  },
  {
   "cell_type": "code",
   "execution_count": null,
   "id": "threaded-contest",
   "metadata": {},
   "outputs": [],
   "source": []
  }
 ],
 "metadata": {
  "kernelspec": {
   "display_name": "Python 3",
   "language": "python",
   "name": "python3"
  },
  "language_info": {
   "codemirror_mode": {
    "name": "ipython",
    "version": 3
   },
   "file_extension": ".py",
   "mimetype": "text/x-python",
   "name": "python",
   "nbconvert_exporter": "python",
   "pygments_lexer": "ipython3",
   "version": "3.8.8"
  }
 },
 "nbformat": 4,
 "nbformat_minor": 5
}
